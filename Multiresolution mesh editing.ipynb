{
 "cells": [
  {
   "cell_type": "code",
   "execution_count": 24,
   "id": "local-investor",
   "metadata": {},
   "outputs": [],
   "source": [
    "import numpy as np\n",
    "import igl\n",
    "import meshplot as mp\n",
    "from scipy.spatial.transform import Rotation\n",
    "import ipywidgets as iw\n",
    "import time\n"
   ]
  },
  {
   "cell_type": "code",
   "execution_count": 25,
   "id": "pharmaceutical-transsexual",
   "metadata": {},
   "outputs": [],
   "source": [
    "v, f = igl.read_triangle_mesh('data/hand.off')\n",
    "labels = np.load('data/hand.label.npy').astype(int)\n",
    "v -= v.min(axis=0)\n",
    "v /= v.max()"
   ]
  },
  {
   "cell_type": "code",
   "execution_count": 26,
   "id": "tight-course",
   "metadata": {},
   "outputs": [],
   "source": [
    "handle_vertex_positions = v.copy()\n",
    "pos_f_saver = np.zeros((labels.max() + 1, 6))\n",
    "def pos_f(s,x,y,z, α, β, γ):\n",
    "    slices = (labels==s)\n",
    "    r = Rotation.from_euler('xyz', [α, β, γ], degrees=True)\n",
    "    v_slice = v[slices] + np.array([[x,y,z]])\n",
    "    center = v_slice.mean(axis=0)\n",
    "    handle_vertex_positions[slices] = r.apply(v_slice - center) + center\n",
    "    pos_f_saver[s - 1] = [x,y,z,α,β,γ]\n",
    "    t0 = time.time()\n",
    "    v_deformed = pos_f.deformer(handle_vertex_positions)\n",
    "    p.update_object(vertices = v_deformed)\n",
    "    t1 = time.time()\n",
    "    print('FPS', 1/(t1 - t0))\n",
    "pos_f.deformer = lambda x:x"
   ]
  },
  {
   "cell_type": "code",
   "execution_count": 27,
   "id": "stone-element",
   "metadata": {},
   "outputs": [],
   "source": [
    "def widgets_wrapper():\n",
    "    segment_widget = iw.Dropdown(options=np.arange(labels.max()) + 1)\n",
    "    translate_widget = {i:iw.FloatSlider(min=-1, max=1, value=0) \n",
    "                        for i in 'xyz'}\n",
    "    rotate_widget = {a:iw.FloatSlider(min=-90, max=90, value=0, step=1) \n",
    "                     for a in 'αβγ'}\n",
    "\n",
    "    def update_seg(*args):\n",
    "        (translate_widget['x'].value,translate_widget['y'].value,\n",
    "        translate_widget['z'].value,\n",
    "        rotate_widget['α'].value,rotate_widget['β'].value,\n",
    "        rotate_widget['γ'].value) = pos_f_saver[segment_widget.value]\n",
    "    segment_widget.observe(update_seg, 'value')\n",
    "    widgets_dict = dict(s=segment_widget)\n",
    "    widgets_dict.update(translate_widget)\n",
    "    widgets_dict.update(rotate_widget)\n",
    "    return widgets_dict"
   ]
  },
  {
   "cell_type": "code",
   "execution_count": 28,
   "id": "divine-variety",
   "metadata": {},
   "outputs": [
    {
     "data": {
      "text/plain": [
       "' (Optional) Register this function to perform interactive deformation\\npos_f.deformer = position_deformer\\n'"
      ]
     },
     "execution_count": 28,
     "metadata": {},
     "output_type": "execute_result"
    }
   ],
   "source": [
    "def position_deformer(target_pos):\n",
    "    '''Fill in this function to change positions'''\n",
    "    return target_pos\n",
    "''' (Optional) Register this function to perform interactive deformation\n",
    "pos_f.deformer = position_deformer\n",
    "'''"
   ]
  },
  {
   "cell_type": "code",
   "execution_count": 29,
   "id": "proprietary-prediction",
   "metadata": {},
   "outputs": [
    {
     "data": {
      "application/vnd.jupyter.widget-view+json": {
       "model_id": "08858b35a9644610ae0c143cae713d37",
       "version_major": 2,
       "version_minor": 0
      },
      "text/plain": [
       "Renderer(camera=PerspectiveCamera(children=(DirectionalLight(color='white', intensity=0.6, position=(0.5, 0.19…"
      ]
     },
     "metadata": {},
     "output_type": "display_data"
    },
    {
     "data": {
      "application/vnd.jupyter.widget-view+json": {
       "model_id": "8d7fbaae3f2a4c7b8d5d04aac1f011aa",
       "version_major": 2,
       "version_minor": 0
      },
      "text/plain": [
       "interactive(children=(Dropdown(description='s', options=(1, 2, 3, 4), value=1), FloatSlider(value=0.0, descrip…"
      ]
     },
     "metadata": {},
     "output_type": "display_data"
    },
    {
     "data": {
      "text/plain": [
       "<function __main__.pos_f(s, x, y, z, α, β, γ)>"
      ]
     },
     "execution_count": 29,
     "metadata": {},
     "output_type": "execute_result"
    }
   ],
   "source": [
    "## Widget UI\n",
    "\n",
    "p = mp.plot(handle_vertex_positions, f, c=labels)\n",
    "iw.interact(pos_f,\n",
    "            **widgets_wrapper())"
   ]
  },
  {
   "cell_type": "markdown",
   "metadata": {},
   "source": [
    "# 1: Removal of high-frequency details"
   ]
  },
  {
   "cell_type": "code",
   "execution_count": 30,
   "metadata": {},
   "outputs": [
    {
     "data": {
      "application/vnd.jupyter.widget-view+json": {
       "model_id": "c609b8331ce24eda85e77af9cfb013c2",
       "version_major": 2,
       "version_minor": 0
      },
      "text/plain": [
       "Renderer(camera=PerspectiveCamera(children=(DirectionalLight(color='white', intensity=0.6, position=(0.5, 0.19…"
      ]
     },
     "metadata": {},
     "output_type": "display_data"
    },
    {
     "data": {
      "application/vnd.jupyter.widget-view+json": {
       "model_id": "7d4a4f180ad646fdb9019c2cd367544f",
       "version_major": 2,
       "version_minor": 0
      },
      "text/plain": [
       "Renderer(camera=PerspectiveCamera(children=(DirectionalLight(color='white', intensity=0.6, position=(0.5, 0.19…"
      ]
     },
     "metadata": {},
     "output_type": "display_data"
    }
   ],
   "source": [
    "# express Lw, M-1\n",
    "# add constraints\n",
    "\n",
    "import scipy.sparse as sp\n",
    "v_smooth = handle_vertex_positions.copy()\n",
    "\n",
    "Lw = igl.cotmatrix(v, f)\n",
    "M = igl.massmatrix(v, f, igl.MASSMATRIX_TYPE_BARYCENTRIC)\n",
    "M_inverse = sp.diags(1 / M.data)\n",
    "\n",
    "A = Lw @ M_inverse @ Lw\n",
    "Aff = A[labels==0, :][:, labels==0]\n",
    "Afc = A[labels==0, :][:, labels>0]\n",
    "xc = v_smooth[labels>0, :]\n",
    "x = sp.linalg.spsolve(Aff, -Afc @ xc)\n",
    "v_smooth[labels==0] = x\n",
    "p = mp.plot(v_smooth, f, c=labels, shading = {\"wireframe\": True, \"flat\": False})\n",
    "p = mp.plot(v_smooth, f, c=labels)"
   ]
  },
  {
   "cell_type": "markdown",
   "metadata": {},
   "source": [
    "# 2: Deforming the smooth mesh"
   ]
  },
  {
   "cell_type": "code",
   "execution_count": 31,
   "metadata": {},
   "outputs": [
    {
     "data": {
      "application/vnd.jupyter.widget-view+json": {
       "model_id": "6d32abf962024aadaeb19b21e88a148a",
       "version_major": 2,
       "version_minor": 0
      },
      "text/plain": [
       "Renderer(camera=PerspectiveCamera(children=(DirectionalLight(color='white', intensity=0.6, position=(0.5, 0.19…"
      ]
     },
     "metadata": {},
     "output_type": "display_data"
    },
    {
     "data": {
      "application/vnd.jupyter.widget-view+json": {
       "model_id": "f58fda4d71dc481490fb117ef76985d2",
       "version_major": 2,
       "version_minor": 0
      },
      "text/plain": [
       "Renderer(camera=PerspectiveCamera(children=(DirectionalLight(color='white', intensity=0.6, position=(0.5, 0.19…"
      ]
     },
     "metadata": {},
     "output_type": "display_data"
    }
   ],
   "source": [
    "# 1. di = vis - viB (B is the smoothed one) so di is just the same shape with v\n",
    "# 2. rotate the the details di with mesh B  \n",
    "#     2.1 Calculate normal ni (for surface B)  \n",
    "#     2.2 Project all neighboring vertices to the tangent plane (perpendicular to ni)  \n",
    "#     2.3 Find neighbor j* for which projected edge (i, j) is longest. Normalize this edge vector and call it xi.  \n",
    "#     2.4 Construct yi using the cross product, completing orthonormal frame (xi, yi, ni) \n",
    "# 3. di = dixxi + diyyi + dinni  inner products.\n",
    "\n",
    "\n",
    "def construct_mesh_details(v_sm):\n",
    "    d = v - v_sm\n",
    "    # print(d.shape, v.shape)\n",
    "    normals = igl.per_vertex_normals(v_sm, f)\n",
    "    neighs = igl.adjacency_list(f)\n",
    "    j_longest = np.zeros(v.shape[0], dtype=np.int16)\n",
    "    di = np.zeros_like(v)\n",
    "\n",
    "    for i in range(v.shape[0]):\n",
    "        ni = normals[i]\n",
    "        i_j = v_sm[neighs[i]] - v_sm[i]\n",
    "        projected_edges = i_j - i_j @ ni[:, None] * ni\n",
    "        neighs_index = np.argmax(np.linalg.norm(projected_edges, axis=1))\n",
    "        j_longest[i] = neighs[i][neighs_index]\n",
    "        xi = projected_edges[neighs_index]\n",
    "        xi /= np.linalg.norm(xi)\n",
    "        yi = np.cross(ni, xi)\n",
    "        di[i] = np.array([d[i] @ xi, d[i] @ yi, d[i] @ ni])\n",
    "    return di, j_longest\n",
    "\n",
    "\n",
    "xc_2 = handle_vertex_positions[labels>0, :]\n",
    "x_2 = sp.linalg.spsolve(Aff, -Afc @ xc_2)\n",
    "v_smooth_2 = handle_vertex_positions\n",
    "v_smooth_2[labels==0] = x_2\n",
    "p_2 = mp.plot(v_smooth_2, f, c=labels, shading = {\"wireframe\": True, \"flat\": False})\n",
    "p_2 = mp.plot(v_smooth_2, f, c=labels)\n",
    "\n",
    "#caculate for mesh B\n",
    "di_B, j_longest_B = construct_mesh_details(v_smooth)\n",
    "#caculate for mesh B'\n",
    "di_B_2, j_longest_B_2 = construct_mesh_details(v_smooth_2)\n"
   ]
  },
  {
   "cell_type": "markdown",
   "metadata": {},
   "source": [
    "# 3: Transferring high-frequency details to the deformed surface  \n"
   ]
  },
  {
   "cell_type": "code",
   "execution_count": 32,
   "metadata": {},
   "outputs": [
    {
     "data": {
      "application/vnd.jupyter.widget-view+json": {
       "model_id": "10822b540527427886ab7df63b0d5a2c",
       "version_major": 2,
       "version_minor": 0
      },
      "text/plain": [
       "Renderer(camera=PerspectiveCamera(children=(DirectionalLight(color='white', intensity=0.6, position=(0.5, 0.19…"
      ]
     },
     "metadata": {},
     "output_type": "display_data"
    },
    {
     "data": {
      "application/vnd.jupyter.widget-view+json": {
       "model_id": "98cbe7b18a2240759c9623ef026455bd",
       "version_major": 2,
       "version_minor": 0
      },
      "text/plain": [
       "interactive(children=(Dropdown(description='s', options=(1, 2, 3, 4), value=1), FloatSlider(value=0.0, descrip…"
      ]
     },
     "metadata": {},
     "output_type": "display_data"
    },
    {
     "data": {
      "text/plain": [
       "<function __main__.pos_f(s, x, y, z, α, β, γ)>"
      ]
     },
     "execution_count": 32,
     "metadata": {},
     "output_type": "execute_result"
    }
   ],
   "source": [
    "# 1. The unit vertex normal  \n",
    "# 2. The normalized projection of one of 's outgoing edges onto the tangent plane defined by the vertex normal. A stable choice is the edge whose projection onto the tangent plane is longest.  \n",
    "# 3. The cross-product between (1) and (2)\n",
    "\n",
    "def transfer_details(v_sm, di, j_longest):\n",
    "    di_new = np.zeros_like(di)\n",
    "    v_detailed = v_sm.copy()\n",
    "    ni = igl.per_vertex_normals(v_sm, f)\n",
    "    edges = v_sm[j_longest] - v_sm\n",
    "    xi = np.zeros_like(ni)\n",
    "    xi = edges - ni*(np.sum(edges * ni, axis=1).reshape(-1, 1))\n",
    "    xi /= np.linalg.norm(xi).reshape(-1, 1)\n",
    "    yi = np.cross(ni, xi)\n",
    "    for i in range(v.shape[0]):\n",
    "        di_new[i] = di[i] @ np.vstack((xi[i], yi[i], ni[i]))\n",
    "    v_detailed += di_new    \n",
    "    return v_detailed\n",
    "\n",
    "v_detailed_2 = transfer_details(v_smooth_2,di_B_2,j_longest_B_2)\n",
    "p_3 = mp.plot(v_detailed_2, f, c=labels)\n",
    "iw.interact(pos_f,\n",
    "            **widgets_wrapper())"
   ]
  }
 ],
 "metadata": {
  "kernelspec": {
   "display_name": "Python 3",
   "language": "python",
   "name": "python3"
  },
  "language_info": {
   "codemirror_mode": {
    "name": "ipython",
    "version": 3
   },
   "file_extension": ".py",
   "mimetype": "text/x-python",
   "name": "python",
   "nbconvert_exporter": "python",
   "pygments_lexer": "ipython3",
   "version": "3.11.3"
  }
 },
 "nbformat": 4,
 "nbformat_minor": 5
}
